{
 "cells": [
  {
   "cell_type": "markdown",
   "id": "85b7395b",
   "metadata": {},
   "source": [
    "## Import Library"
   ]
  },
  {
   "cell_type": "code",
   "execution_count": 1,
   "id": "2c19334e",
   "metadata": {},
   "outputs": [],
   "source": [
    "import numpy as np\n",
    "import pandas as pd"
   ]
  },
  {
   "cell_type": "markdown",
   "id": "a4b3541d",
   "metadata": {},
   "source": [
    "### Series and Dataframe"
   ]
  },
  {
   "cell_type": "code",
   "execution_count": 2,
   "id": "234c0710",
   "metadata": {},
   "outputs": [],
   "source": [
    "pd.Series?"
   ]
  },
  {
   "cell_type": "code",
   "execution_count": 3,
   "id": "7695c5bc",
   "metadata": {},
   "outputs": [],
   "source": [
    "pd.DataFrame?"
   ]
  },
  {
   "cell_type": "code",
   "execution_count": 4,
   "id": "2fd2a2d7",
   "metadata": {},
   "outputs": [
    {
     "data": {
      "text/plain": [
       "['Lion', 'Cat', 'Birds', 'Fish']"
      ]
     },
     "execution_count": 4,
     "metadata": {},
     "output_type": "execute_result"
    }
   ],
   "source": [
    "my_pets = ['Lion', 'Cat', 'Birds', 'Fish']\n",
    "my_pets"
   ]
  },
  {
   "cell_type": "code",
   "execution_count": 6,
   "id": "788bcdd6",
   "metadata": {},
   "outputs": [
    {
     "data": {
      "text/plain": [
       "0     Lion\n",
       "1      Cat\n",
       "2    Birds\n",
       "3     Fish\n",
       "dtype: object"
      ]
     },
     "execution_count": 6,
     "metadata": {},
     "output_type": "execute_result"
    }
   ],
   "source": [
    "pd.Series(my_pets) # Converting our list to Series with indexes"
   ]
  },
  {
   "cell_type": "markdown",
   "id": "7a12560b",
   "metadata": {},
   "source": [
    "### We can create our own index overiding default index(0,1,2...)"
   ]
  },
  {
   "cell_type": "code",
   "execution_count": 11,
   "id": "7d844eb7",
   "metadata": {},
   "outputs": [],
   "source": [
    "my_index = ['Monday', 'Tuesday', 'Wednesday', 'Thursday', 'Friday']"
   ]
  },
  {
   "cell_type": "code",
   "execution_count": 12,
   "id": "1c104bdb",
   "metadata": {},
   "outputs": [],
   "source": [
    "my_courses = ['Economics', 'Geography', 'Finance', 'Mathematics', 'History']"
   ]
  },
  {
   "cell_type": "code",
   "execution_count": 13,
   "id": "1694f781",
   "metadata": {},
   "outputs": [
    {
     "data": {
      "text/plain": [
       "0      Economics\n",
       "1      Geography\n",
       "2        Finance\n",
       "3    Mathematics\n",
       "4        History\n",
       "dtype: object"
      ]
     },
     "execution_count": 13,
     "metadata": {},
     "output_type": "execute_result"
    }
   ],
   "source": [
    "pd.Series(my_courses)"
   ]
  },
  {
   "cell_type": "code",
   "execution_count": 14,
   "id": "7faefbf7",
   "metadata": {},
   "outputs": [
    {
     "data": {
      "text/plain": [
       "Monday         Economics\n",
       "Tuesday        Geography\n",
       "Wednesday        Finance\n",
       "Thursday     Mathematics\n",
       "Friday           History\n",
       "dtype: object"
      ]
     },
     "execution_count": 14,
     "metadata": {},
     "output_type": "execute_result"
    }
   ],
   "source": [
    "pd.Series(my_courses, index=my_index)"
   ]
  },
  {
   "cell_type": "code",
   "execution_count": 16,
   "id": "b4b7582d",
   "metadata": {},
   "outputs": [
    {
     "data": {
      "text/plain": [
       "Day1      Mon\n",
       "Day2     Tues\n",
       "Day3      Wed\n",
       "Day4    Thurs\n",
       "Day5      Fri\n",
       "dtype: object"
      ]
     },
     "execution_count": 16,
     "metadata": {},
     "output_type": "execute_result"
    }
   ],
   "source": [
    "days = pd.Series(['Mon', 'Tues', 'Wed', 'Thurs', 'Fri'], index=['Day1', 'Day2', 'Day3', 'Day4', 'Day5'])\n",
    "days"
   ]
  },
  {
   "cell_type": "code",
   "execution_count": 17,
   "id": "7ee9d2c6",
   "metadata": {},
   "outputs": [
    {
     "data": {
      "text/plain": [
       "Day1      Eco\n",
       "Day2      Geo\n",
       "Day3      Fin\n",
       "Day4    Maths\n",
       "Day5     Hist\n",
       "dtype: object"
      ]
     },
     "execution_count": 17,
     "metadata": {},
     "output_type": "execute_result"
    }
   ],
   "source": [
    "courses = pd.Series(['Eco', 'Geo', 'Fin', 'Maths', 'Hist'], index='Day1 Day2 Day3 Day4 Day5'.split())\n",
    "courses"
   ]
  },
  {
   "cell_type": "code",
   "execution_count": 18,
   "id": "1a02c6d7",
   "metadata": {},
   "outputs": [
    {
     "data": {
      "text/plain": [
       "Day1      Eco\n",
       "Day2      Geo\n",
       "Day3      Fin\n",
       "Day4    Maths\n",
       "Day5     Hist\n",
       "dtype: object"
      ]
     },
     "execution_count": 18,
     "metadata": {},
     "output_type": "execute_result"
    }
   ],
   "source": [
    "courses = pd.Series(['Eco', 'Geo', 'Fin', 'Maths', 'Hist'], index='Day1, Day2, Day3, Day4, Day5'.split(', '))\n",
    "courses"
   ]
  },
  {
   "cell_type": "markdown",
   "id": "776ffd23",
   "metadata": {},
   "source": [
    "### Series concatenation based on index"
   ]
  },
  {
   "cell_type": "code",
   "execution_count": 21,
   "id": "952cb9a6",
   "metadata": {},
   "outputs": [
    {
     "data": {
      "text/plain": [
       "Day1        Mon Eco\n",
       "Day2       Tues Geo\n",
       "Day3        Wed Fin\n",
       "Day4    Thurs Maths\n",
       "Day5       Fri Hist\n",
       "dtype: object"
      ]
     },
     "execution_count": 21,
     "metadata": {},
     "output_type": "execute_result"
    }
   ],
   "source": [
    "days + ' ' + courses"
   ]
  },
  {
   "cell_type": "markdown",
   "id": "86821e57",
   "metadata": {},
   "source": [
    "### Accessing Series Data using index"
   ]
  },
  {
   "cell_type": "code",
   "execution_count": 24,
   "id": "c958bade",
   "metadata": {},
   "outputs": [
    {
     "data": {
      "text/plain": [
       "'Hist'"
      ]
     },
     "execution_count": 24,
     "metadata": {},
     "output_type": "execute_result"
    }
   ],
   "source": [
    "courses['Day5']"
   ]
  },
  {
   "cell_type": "code",
   "execution_count": 26,
   "id": "33700ffb",
   "metadata": {},
   "outputs": [
    {
     "data": {
      "text/plain": [
       "'Wed'"
      ]
     },
     "execution_count": 26,
     "metadata": {},
     "output_type": "execute_result"
    }
   ],
   "source": [
    "days['Day3']"
   ]
  },
  {
   "cell_type": "markdown",
   "id": "25e5eeb4",
   "metadata": {},
   "source": [
    "### loc & iloc"
   ]
  },
  {
   "cell_type": "code",
   "execution_count": 27,
   "id": "e0d4b909",
   "metadata": {},
   "outputs": [
    {
     "data": {
      "text/plain": [
       "Football      Spain\n",
       "NBA             USA\n",
       "Cricket       India\n",
       "Atheltes    Jamaica\n",
       "dtype: object"
      ]
     },
     "execution_count": 27,
     "metadata": {},
     "output_type": "execute_result"
    }
   ],
   "source": [
    "# Creating Series using dictionary\n",
    "sports = {'Football':'Spain',\n",
    "         'NBA':'USA',\n",
    "         'Cricket':'India',\n",
    "         'Atheltes':'Jamaica'}\n",
    "sports_series = pd.Series(sports)\n",
    "sports_series"
   ]
  },
  {
   "cell_type": "code",
   "execution_count": 28,
   "id": "cb006ba8",
   "metadata": {},
   "outputs": [
    {
     "data": {
      "text/plain": [
       "'India'"
      ]
     },
     "execution_count": 28,
     "metadata": {},
     "output_type": "execute_result"
    }
   ],
   "source": [
    "sports_series.loc['Cricket']"
   ]
  },
  {
   "cell_type": "code",
   "execution_count": 29,
   "id": "7754869e",
   "metadata": {},
   "outputs": [
    {
     "data": {
      "text/plain": [
       "'India'"
      ]
     },
     "execution_count": 29,
     "metadata": {},
     "output_type": "execute_result"
    }
   ],
   "source": [
    "sports_series.iloc[2]"
   ]
  },
  {
   "cell_type": "code",
   "execution_count": 30,
   "id": "19e8cda3",
   "metadata": {},
   "outputs": [
    {
     "data": {
      "text/plain": [
       "'India'"
      ]
     },
     "execution_count": 30,
     "metadata": {},
     "output_type": "execute_result"
    }
   ],
   "source": [
    "sports_series['Cricket']"
   ]
  },
  {
   "cell_type": "code",
   "execution_count": 31,
   "id": "7108d968",
   "metadata": {},
   "outputs": [
    {
     "data": {
      "text/plain": [
       "10    100\n",
       "20    200\n",
       "30    300\n",
       "dtype: int64"
      ]
     },
     "execution_count": 31,
     "metadata": {},
     "output_type": "execute_result"
    }
   ],
   "source": [
    "s2 = pd.Series([100, 200, 300], index=[10, 20, 30])\n",
    "s2"
   ]
  },
  {
   "cell_type": "code",
   "execution_count": 32,
   "id": "2170a77e",
   "metadata": {},
   "outputs": [
    {
     "data": {
      "text/plain": [
       "np.int64(100)"
      ]
     },
     "execution_count": 32,
     "metadata": {},
     "output_type": "execute_result"
    }
   ],
   "source": [
    "s2[10]"
   ]
  },
  {
   "cell_type": "code",
   "execution_count": 34,
   "id": "625d926a",
   "metadata": {},
   "outputs": [
    {
     "data": {
      "text/plain": [
       "np.int64(100)"
      ]
     },
     "execution_count": 34,
     "metadata": {},
     "output_type": "execute_result"
    }
   ],
   "source": [
    "s2.loc[10]"
   ]
  },
  {
   "cell_type": "markdown",
   "id": "e3946c02",
   "metadata": {},
   "source": [
    "## DataFrame"
   ]
  },
  {
   "cell_type": "code",
   "execution_count": 39,
   "id": "ab911c95",
   "metadata": {},
   "outputs": [
    {
     "data": {
      "text/plain": [
       "array([[ 2.40854529,  0.7996967 , -0.74902621,  0.51813727,  1.46835487],\n",
       "       [-0.35925925,  1.15094803, -1.30450681,  0.74712775,  1.48693624],\n",
       "       [-0.16052604, -1.35923219,  0.58424106, -0.19892893, -0.45715536],\n",
       "       [ 1.0932033 ,  0.66827395, -0.46620326,  0.60866284,  0.55931795],\n",
       "       [-0.38889314,  0.20587444, -0.52483238, -0.4384877 ,  0.416256  ],\n",
       "       [-2.1516762 , -0.06875414, -1.13472042, -0.53207631, -1.86565347],\n",
       "       [-0.11076466, -0.19397704, -0.17091104, -0.4307133 , -1.09577742],\n",
       "       [ 0.40522203, -0.64698753, -1.50337432, -0.48531232,  1.42004319],\n",
       "       [ 0.84064936, -0.06458189, -0.02369967, -1.16054233,  0.76716156],\n",
       "       [ 0.2863776 ,  1.75550109,  0.42733618,  1.93558518, -0.14988151]])"
      ]
     },
     "execution_count": 39,
     "metadata": {},
     "output_type": "execute_result"
    }
   ],
   "source": [
    "random_normal_distribution_array = np.random.randn(10,5)\n",
    "random_normal_distribution_array"
   ]
  },
  {
   "cell_type": "code",
   "execution_count": 37,
   "id": "d61dedbe",
   "metadata": {},
   "outputs": [
    {
     "data": {
      "text/plain": [
       "np.float64(-2.5202229973575747)"
      ]
     },
     "execution_count": 37,
     "metadata": {},
     "output_type": "execute_result"
    }
   ],
   "source": [
    "np.min(random_normal_distribution_array)"
   ]
  },
  {
   "cell_type": "code",
   "execution_count": 40,
   "id": "29ed97eb",
   "metadata": {},
   "outputs": [
    {
     "data": {
      "text/plain": [
       "np.float64(2.4085452910062757)"
      ]
     },
     "execution_count": 40,
     "metadata": {},
     "output_type": "execute_result"
    }
   ],
   "source": [
    "np.max(random_normal_distribution_array)"
   ]
  },
  {
   "cell_type": "code",
   "execution_count": 41,
   "id": "4f8a691f",
   "metadata": {},
   "outputs": [
    {
     "data": {
      "text/html": [
       "<div>\n",
       "<style scoped>\n",
       "    .dataframe tbody tr th:only-of-type {\n",
       "        vertical-align: middle;\n",
       "    }\n",
       "\n",
       "    .dataframe tbody tr th {\n",
       "        vertical-align: top;\n",
       "    }\n",
       "\n",
       "    .dataframe thead th {\n",
       "        text-align: right;\n",
       "    }\n",
       "</style>\n",
       "<table border=\"1\" class=\"dataframe\">\n",
       "  <thead>\n",
       "    <tr style=\"text-align: right;\">\n",
       "      <th></th>\n",
       "      <th>column1</th>\n",
       "      <th>column2</th>\n",
       "      <th>column3</th>\n",
       "      <th>column4</th>\n",
       "      <th>column5</th>\n",
       "    </tr>\n",
       "  </thead>\n",
       "  <tbody>\n",
       "    <tr>\n",
       "      <th>row1</th>\n",
       "      <td>-0.459777</td>\n",
       "      <td>-0.837914</td>\n",
       "      <td>0.124778</td>\n",
       "      <td>-0.948637</td>\n",
       "      <td>0.741644</td>\n",
       "    </tr>\n",
       "    <tr>\n",
       "      <th>row2</th>\n",
       "      <td>0.849825</td>\n",
       "      <td>-0.163339</td>\n",
       "      <td>-0.283322</td>\n",
       "      <td>0.935878</td>\n",
       "      <td>0.359920</td>\n",
       "    </tr>\n",
       "    <tr>\n",
       "      <th>row3</th>\n",
       "      <td>0.059858</td>\n",
       "      <td>1.064744</td>\n",
       "      <td>1.241220</td>\n",
       "      <td>0.400700</td>\n",
       "      <td>1.925026</td>\n",
       "    </tr>\n",
       "    <tr>\n",
       "      <th>row4</th>\n",
       "      <td>0.685403</td>\n",
       "      <td>0.226283</td>\n",
       "      <td>-1.841958</td>\n",
       "      <td>-0.278643</td>\n",
       "      <td>1.741308</td>\n",
       "    </tr>\n",
       "    <tr>\n",
       "      <th>row5</th>\n",
       "      <td>-1.563659</td>\n",
       "      <td>0.661184</td>\n",
       "      <td>-0.824104</td>\n",
       "      <td>-0.494983</td>\n",
       "      <td>0.210169</td>\n",
       "    </tr>\n",
       "    <tr>\n",
       "      <th>row6</th>\n",
       "      <td>1.324894</td>\n",
       "      <td>-0.570205</td>\n",
       "      <td>1.238114</td>\n",
       "      <td>1.477310</td>\n",
       "      <td>0.136338</td>\n",
       "    </tr>\n",
       "    <tr>\n",
       "      <th>row7</th>\n",
       "      <td>-0.589005</td>\n",
       "      <td>-2.612278</td>\n",
       "      <td>-0.008682</td>\n",
       "      <td>-0.361822</td>\n",
       "      <td>-0.013318</td>\n",
       "    </tr>\n",
       "    <tr>\n",
       "      <th>row8</th>\n",
       "      <td>-0.924938</td>\n",
       "      <td>0.150113</td>\n",
       "      <td>0.742846</td>\n",
       "      <td>-0.172087</td>\n",
       "      <td>1.437708</td>\n",
       "    </tr>\n",
       "    <tr>\n",
       "      <th>row9</th>\n",
       "      <td>-1.325651</td>\n",
       "      <td>0.454818</td>\n",
       "      <td>-0.361992</td>\n",
       "      <td>-1.058341</td>\n",
       "      <td>-0.953292</td>\n",
       "    </tr>\n",
       "    <tr>\n",
       "      <th>row10</th>\n",
       "      <td>-2.229473</td>\n",
       "      <td>0.100977</td>\n",
       "      <td>1.147300</td>\n",
       "      <td>2.491926</td>\n",
       "      <td>0.416009</td>\n",
       "    </tr>\n",
       "  </tbody>\n",
       "</table>\n",
       "</div>"
      ],
      "text/plain": [
       "        column1   column2   column3   column4   column5\n",
       "row1  -0.459777 -0.837914  0.124778 -0.948637  0.741644\n",
       "row2   0.849825 -0.163339 -0.283322  0.935878  0.359920\n",
       "row3   0.059858  1.064744  1.241220  0.400700  1.925026\n",
       "row4   0.685403  0.226283 -1.841958 -0.278643  1.741308\n",
       "row5  -1.563659  0.661184 -0.824104 -0.494983  0.210169\n",
       "row6   1.324894 -0.570205  1.238114  1.477310  0.136338\n",
       "row7  -0.589005 -2.612278 -0.008682 -0.361822 -0.013318\n",
       "row8  -0.924938  0.150113  0.742846 -0.172087  1.437708\n",
       "row9  -1.325651  0.454818 -0.361992 -1.058341 -0.953292\n",
       "row10 -2.229473  0.100977  1.147300  2.491926  0.416009"
      ]
     },
     "execution_count": 41,
     "metadata": {},
     "output_type": "execute_result"
    }
   ],
   "source": [
    "my_dataframe = pd.DataFrame(np.random.randn(10,5), index='row1, row2, row3, row4, row5, row6, row7, row8, row9, row10'.split(', '),\n",
    "                            columns='column1, column2, column3, column4, column5'.split(', '))\n",
    "my_dataframe"
   ]
  },
  {
   "cell_type": "code",
   "execution_count": 42,
   "id": "ef4cc166",
   "metadata": {},
   "outputs": [
    {
     "data": {
      "text/plain": [
       "pandas.core.frame.DataFrame"
      ]
     },
     "execution_count": 42,
     "metadata": {},
     "output_type": "execute_result"
    }
   ],
   "source": [
    "type(my_dataframe)"
   ]
  },
  {
   "cell_type": "code",
   "execution_count": 43,
   "id": "e7ce3a39",
   "metadata": {},
   "outputs": [
    {
     "data": {
      "text/plain": [
       "pandas.core.series.Series"
      ]
     },
     "execution_count": 43,
     "metadata": {},
     "output_type": "execute_result"
    }
   ],
   "source": [
    "type(my_dataframe['column1'])"
   ]
  },
  {
   "cell_type": "code",
   "execution_count": 46,
   "id": "ec8a185a",
   "metadata": {},
   "outputs": [
    {
     "data": {
      "text/plain": [
       "row1    -0.459777\n",
       "row2     0.849825\n",
       "row3     0.059858\n",
       "row4     0.685403\n",
       "row5    -1.563659\n",
       "row6     1.324894\n",
       "row7    -0.589005\n",
       "row8    -0.924938\n",
       "row9    -1.325651\n",
       "row10   -2.229473\n",
       "Name: column1, dtype: float64"
      ]
     },
     "execution_count": 46,
     "metadata": {},
     "output_type": "execute_result"
    }
   ],
   "source": [
    "# Selecting particular column/series\n",
    "my_dataframe['column1']"
   ]
  },
  {
   "cell_type": "markdown",
   "id": "d56dd250",
   "metadata": {},
   "source": [
    "### Selection and Indexing"
   ]
  },
  {
   "cell_type": "code",
   "execution_count": 49,
   "id": "3f3b778b",
   "metadata": {},
   "outputs": [
    {
     "data": {
      "text/html": [
       "<div>\n",
       "<style scoped>\n",
       "    .dataframe tbody tr th:only-of-type {\n",
       "        vertical-align: middle;\n",
       "    }\n",
       "\n",
       "    .dataframe tbody tr th {\n",
       "        vertical-align: top;\n",
       "    }\n",
       "\n",
       "    .dataframe thead th {\n",
       "        text-align: right;\n",
       "    }\n",
       "</style>\n",
       "<table border=\"1\" class=\"dataframe\">\n",
       "  <thead>\n",
       "    <tr style=\"text-align: right;\">\n",
       "      <th></th>\n",
       "      <th>column1</th>\n",
       "      <th>column3</th>\n",
       "      <th>column5</th>\n",
       "    </tr>\n",
       "  </thead>\n",
       "  <tbody>\n",
       "    <tr>\n",
       "      <th>row1</th>\n",
       "      <td>-0.459777</td>\n",
       "      <td>0.124778</td>\n",
       "      <td>0.741644</td>\n",
       "    </tr>\n",
       "    <tr>\n",
       "      <th>row2</th>\n",
       "      <td>0.849825</td>\n",
       "      <td>-0.283322</td>\n",
       "      <td>0.359920</td>\n",
       "    </tr>\n",
       "    <tr>\n",
       "      <th>row3</th>\n",
       "      <td>0.059858</td>\n",
       "      <td>1.241220</td>\n",
       "      <td>1.925026</td>\n",
       "    </tr>\n",
       "    <tr>\n",
       "      <th>row4</th>\n",
       "      <td>0.685403</td>\n",
       "      <td>-1.841958</td>\n",
       "      <td>1.741308</td>\n",
       "    </tr>\n",
       "    <tr>\n",
       "      <th>row5</th>\n",
       "      <td>-1.563659</td>\n",
       "      <td>-0.824104</td>\n",
       "      <td>0.210169</td>\n",
       "    </tr>\n",
       "    <tr>\n",
       "      <th>row6</th>\n",
       "      <td>1.324894</td>\n",
       "      <td>1.238114</td>\n",
       "      <td>0.136338</td>\n",
       "    </tr>\n",
       "    <tr>\n",
       "      <th>row7</th>\n",
       "      <td>-0.589005</td>\n",
       "      <td>-0.008682</td>\n",
       "      <td>-0.013318</td>\n",
       "    </tr>\n",
       "    <tr>\n",
       "      <th>row8</th>\n",
       "      <td>-0.924938</td>\n",
       "      <td>0.742846</td>\n",
       "      <td>1.437708</td>\n",
       "    </tr>\n",
       "    <tr>\n",
       "      <th>row9</th>\n",
       "      <td>-1.325651</td>\n",
       "      <td>-0.361992</td>\n",
       "      <td>-0.953292</td>\n",
       "    </tr>\n",
       "    <tr>\n",
       "      <th>row10</th>\n",
       "      <td>-2.229473</td>\n",
       "      <td>1.147300</td>\n",
       "      <td>0.416009</td>\n",
       "    </tr>\n",
       "  </tbody>\n",
       "</table>\n",
       "</div>"
      ],
      "text/plain": [
       "        column1   column3   column5\n",
       "row1  -0.459777  0.124778  0.741644\n",
       "row2   0.849825 -0.283322  0.359920\n",
       "row3   0.059858  1.241220  1.925026\n",
       "row4   0.685403 -1.841958  1.741308\n",
       "row5  -1.563659 -0.824104  0.210169\n",
       "row6   1.324894  1.238114  0.136338\n",
       "row7  -0.589005 -0.008682 -0.013318\n",
       "row8  -0.924938  0.742846  1.437708\n",
       "row9  -1.325651 -0.361992 -0.953292\n",
       "row10 -2.229473  1.147300  0.416009"
      ]
     },
     "execution_count": 49,
     "metadata": {},
     "output_type": "execute_result"
    }
   ],
   "source": [
    "# Selecting multiple columns at time from DataFrame\n",
    "my_dataframe[['column1', 'column3', 'column5']]"
   ]
  },
  {
   "cell_type": "markdown",
   "id": "1b1cf2a1",
   "metadata": {},
   "source": [
    "### Let's add new column to our DataFrame"
   ]
  },
  {
   "cell_type": "code",
   "execution_count": 69,
   "id": "5c0accdc",
   "metadata": {},
   "outputs": [
    {
     "data": {
      "text/html": [
       "<div>\n",
       "<style scoped>\n",
       "    .dataframe tbody tr th:only-of-type {\n",
       "        vertical-align: middle;\n",
       "    }\n",
       "\n",
       "    .dataframe tbody tr th {\n",
       "        vertical-align: top;\n",
       "    }\n",
       "\n",
       "    .dataframe thead th {\n",
       "        text-align: right;\n",
       "    }\n",
       "</style>\n",
       "<table border=\"1\" class=\"dataframe\">\n",
       "  <thead>\n",
       "    <tr style=\"text-align: right;\">\n",
       "      <th></th>\n",
       "      <th>column1</th>\n",
       "      <th>column2</th>\n",
       "      <th>column3</th>\n",
       "      <th>column4</th>\n",
       "      <th>column5</th>\n",
       "      <th>column6</th>\n",
       "    </tr>\n",
       "  </thead>\n",
       "  <tbody>\n",
       "    <tr>\n",
       "      <th>row1</th>\n",
       "      <td>-0.459777</td>\n",
       "      <td>-0.837914</td>\n",
       "      <td>0.124778</td>\n",
       "      <td>-0.948637</td>\n",
       "      <td>0.741644</td>\n",
       "      <td>-0.919553</td>\n",
       "    </tr>\n",
       "    <tr>\n",
       "      <th>row2</th>\n",
       "      <td>0.849825</td>\n",
       "      <td>-0.163339</td>\n",
       "      <td>-0.283322</td>\n",
       "      <td>0.935878</td>\n",
       "      <td>0.359920</td>\n",
       "      <td>1.699651</td>\n",
       "    </tr>\n",
       "    <tr>\n",
       "      <th>row3</th>\n",
       "      <td>0.059858</td>\n",
       "      <td>1.064744</td>\n",
       "      <td>1.241220</td>\n",
       "      <td>0.400700</td>\n",
       "      <td>1.925026</td>\n",
       "      <td>0.119715</td>\n",
       "    </tr>\n",
       "    <tr>\n",
       "      <th>row4</th>\n",
       "      <td>0.685403</td>\n",
       "      <td>0.226283</td>\n",
       "      <td>-1.841958</td>\n",
       "      <td>-0.278643</td>\n",
       "      <td>1.741308</td>\n",
       "      <td>1.370806</td>\n",
       "    </tr>\n",
       "    <tr>\n",
       "      <th>row5</th>\n",
       "      <td>-1.563659</td>\n",
       "      <td>0.661184</td>\n",
       "      <td>-0.824104</td>\n",
       "      <td>-0.494983</td>\n",
       "      <td>0.210169</td>\n",
       "      <td>-3.127318</td>\n",
       "    </tr>\n",
       "    <tr>\n",
       "      <th>row6</th>\n",
       "      <td>1.324894</td>\n",
       "      <td>-0.570205</td>\n",
       "      <td>1.238114</td>\n",
       "      <td>1.477310</td>\n",
       "      <td>0.136338</td>\n",
       "      <td>2.649789</td>\n",
       "    </tr>\n",
       "    <tr>\n",
       "      <th>row7</th>\n",
       "      <td>-0.589005</td>\n",
       "      <td>-2.612278</td>\n",
       "      <td>-0.008682</td>\n",
       "      <td>-0.361822</td>\n",
       "      <td>-0.013318</td>\n",
       "      <td>-1.178010</td>\n",
       "    </tr>\n",
       "    <tr>\n",
       "      <th>row8</th>\n",
       "      <td>-0.924938</td>\n",
       "      <td>0.150113</td>\n",
       "      <td>0.742846</td>\n",
       "      <td>-0.172087</td>\n",
       "      <td>1.437708</td>\n",
       "      <td>-1.849877</td>\n",
       "    </tr>\n",
       "    <tr>\n",
       "      <th>row9</th>\n",
       "      <td>-1.325651</td>\n",
       "      <td>0.454818</td>\n",
       "      <td>-0.361992</td>\n",
       "      <td>-1.058341</td>\n",
       "      <td>-0.953292</td>\n",
       "      <td>-2.651302</td>\n",
       "    </tr>\n",
       "    <tr>\n",
       "      <th>row10</th>\n",
       "      <td>-2.229473</td>\n",
       "      <td>0.100977</td>\n",
       "      <td>1.147300</td>\n",
       "      <td>2.491926</td>\n",
       "      <td>0.416009</td>\n",
       "      <td>-4.458946</td>\n",
       "    </tr>\n",
       "  </tbody>\n",
       "</table>\n",
       "</div>"
      ],
      "text/plain": [
       "        column1   column2   column3   column4   column5   column6\n",
       "row1  -0.459777 -0.837914  0.124778 -0.948637  0.741644 -0.919553\n",
       "row2   0.849825 -0.163339 -0.283322  0.935878  0.359920  1.699651\n",
       "row3   0.059858  1.064744  1.241220  0.400700  1.925026  0.119715\n",
       "row4   0.685403  0.226283 -1.841958 -0.278643  1.741308  1.370806\n",
       "row5  -1.563659  0.661184 -0.824104 -0.494983  0.210169 -3.127318\n",
       "row6   1.324894 -0.570205  1.238114  1.477310  0.136338  2.649789\n",
       "row7  -0.589005 -2.612278 -0.008682 -0.361822 -0.013318 -1.178010\n",
       "row8  -0.924938  0.150113  0.742846 -0.172087  1.437708 -1.849877\n",
       "row9  -1.325651  0.454818 -0.361992 -1.058341 -0.953292 -2.651302\n",
       "row10 -2.229473  0.100977  1.147300  2.491926  0.416009 -4.458946"
      ]
     },
     "execution_count": 69,
     "metadata": {},
     "output_type": "execute_result"
    }
   ],
   "source": [
    "my_dataframe['column6'] = my_dataframe['column1']*2\n",
    "my_dataframe"
   ]
  },
  {
   "cell_type": "markdown",
   "id": "29be9cfc",
   "metadata": {},
   "source": [
    "### Drop column from our DataFrame"
   ]
  },
  {
   "cell_type": "code",
   "execution_count": 73,
   "id": "ee730d39",
   "metadata": {},
   "outputs": [
    {
     "data": {
      "text/html": [
       "<div>\n",
       "<style scoped>\n",
       "    .dataframe tbody tr th:only-of-type {\n",
       "        vertical-align: middle;\n",
       "    }\n",
       "\n",
       "    .dataframe tbody tr th {\n",
       "        vertical-align: top;\n",
       "    }\n",
       "\n",
       "    .dataframe thead th {\n",
       "        text-align: right;\n",
       "    }\n",
       "</style>\n",
       "<table border=\"1\" class=\"dataframe\">\n",
       "  <thead>\n",
       "    <tr style=\"text-align: right;\">\n",
       "      <th></th>\n",
       "      <th>column1</th>\n",
       "      <th>column2</th>\n",
       "      <th>column3</th>\n",
       "      <th>column5</th>\n",
       "      <th>column6</th>\n",
       "    </tr>\n",
       "  </thead>\n",
       "  <tbody>\n",
       "    <tr>\n",
       "      <th>row1</th>\n",
       "      <td>-0.459777</td>\n",
       "      <td>-0.837914</td>\n",
       "      <td>0.124778</td>\n",
       "      <td>0.741644</td>\n",
       "      <td>-0.919553</td>\n",
       "    </tr>\n",
       "    <tr>\n",
       "      <th>row2</th>\n",
       "      <td>0.849825</td>\n",
       "      <td>-0.163339</td>\n",
       "      <td>-0.283322</td>\n",
       "      <td>0.359920</td>\n",
       "      <td>1.699651</td>\n",
       "    </tr>\n",
       "    <tr>\n",
       "      <th>row3</th>\n",
       "      <td>0.059858</td>\n",
       "      <td>1.064744</td>\n",
       "      <td>1.241220</td>\n",
       "      <td>1.925026</td>\n",
       "      <td>0.119715</td>\n",
       "    </tr>\n",
       "    <tr>\n",
       "      <th>row4</th>\n",
       "      <td>0.685403</td>\n",
       "      <td>0.226283</td>\n",
       "      <td>-1.841958</td>\n",
       "      <td>1.741308</td>\n",
       "      <td>1.370806</td>\n",
       "    </tr>\n",
       "    <tr>\n",
       "      <th>row5</th>\n",
       "      <td>-1.563659</td>\n",
       "      <td>0.661184</td>\n",
       "      <td>-0.824104</td>\n",
       "      <td>0.210169</td>\n",
       "      <td>-3.127318</td>\n",
       "    </tr>\n",
       "    <tr>\n",
       "      <th>row6</th>\n",
       "      <td>1.324894</td>\n",
       "      <td>-0.570205</td>\n",
       "      <td>1.238114</td>\n",
       "      <td>0.136338</td>\n",
       "      <td>2.649789</td>\n",
       "    </tr>\n",
       "    <tr>\n",
       "      <th>row7</th>\n",
       "      <td>-0.589005</td>\n",
       "      <td>-2.612278</td>\n",
       "      <td>-0.008682</td>\n",
       "      <td>-0.013318</td>\n",
       "      <td>-1.178010</td>\n",
       "    </tr>\n",
       "    <tr>\n",
       "      <th>row8</th>\n",
       "      <td>-0.924938</td>\n",
       "      <td>0.150113</td>\n",
       "      <td>0.742846</td>\n",
       "      <td>1.437708</td>\n",
       "      <td>-1.849877</td>\n",
       "    </tr>\n",
       "    <tr>\n",
       "      <th>row9</th>\n",
       "      <td>-1.325651</td>\n",
       "      <td>0.454818</td>\n",
       "      <td>-0.361992</td>\n",
       "      <td>-0.953292</td>\n",
       "      <td>-2.651302</td>\n",
       "    </tr>\n",
       "    <tr>\n",
       "      <th>row10</th>\n",
       "      <td>-2.229473</td>\n",
       "      <td>0.100977</td>\n",
       "      <td>1.147300</td>\n",
       "      <td>0.416009</td>\n",
       "      <td>-4.458946</td>\n",
       "    </tr>\n",
       "  </tbody>\n",
       "</table>\n",
       "</div>"
      ],
      "text/plain": [
       "        column1   column2   column3   column5   column6\n",
       "row1  -0.459777 -0.837914  0.124778  0.741644 -0.919553\n",
       "row2   0.849825 -0.163339 -0.283322  0.359920  1.699651\n",
       "row3   0.059858  1.064744  1.241220  1.925026  0.119715\n",
       "row4   0.685403  0.226283 -1.841958  1.741308  1.370806\n",
       "row5  -1.563659  0.661184 -0.824104  0.210169 -3.127318\n",
       "row6   1.324894 -0.570205  1.238114  0.136338  2.649789\n",
       "row7  -0.589005 -2.612278 -0.008682 -0.013318 -1.178010\n",
       "row8  -0.924938  0.150113  0.742846  1.437708 -1.849877\n",
       "row9  -1.325651  0.454818 -0.361992 -0.953292 -2.651302\n",
       "row10 -2.229473  0.100977  1.147300  0.416009 -4.458946"
      ]
     },
     "execution_count": 73,
     "metadata": {},
     "output_type": "execute_result"
    }
   ],
   "source": [
    "my_dataframe.drop('column4', axis=1) # axis=1 refer to column"
   ]
  },
  {
   "cell_type": "code",
   "execution_count": 75,
   "id": "fdf69371",
   "metadata": {},
   "outputs": [
    {
     "data": {
      "text/html": [
       "<div>\n",
       "<style scoped>\n",
       "    .dataframe tbody tr th:only-of-type {\n",
       "        vertical-align: middle;\n",
       "    }\n",
       "\n",
       "    .dataframe tbody tr th {\n",
       "        vertical-align: top;\n",
       "    }\n",
       "\n",
       "    .dataframe thead th {\n",
       "        text-align: right;\n",
       "    }\n",
       "</style>\n",
       "<table border=\"1\" class=\"dataframe\">\n",
       "  <thead>\n",
       "    <tr style=\"text-align: right;\">\n",
       "      <th></th>\n",
       "      <th>column1</th>\n",
       "      <th>column2</th>\n",
       "      <th>column3</th>\n",
       "      <th>column4</th>\n",
       "      <th>column5</th>\n",
       "      <th>column6</th>\n",
       "    </tr>\n",
       "  </thead>\n",
       "  <tbody>\n",
       "    <tr>\n",
       "      <th>row1</th>\n",
       "      <td>-0.459777</td>\n",
       "      <td>-0.837914</td>\n",
       "      <td>0.124778</td>\n",
       "      <td>-0.948637</td>\n",
       "      <td>0.741644</td>\n",
       "      <td>-0.919553</td>\n",
       "    </tr>\n",
       "    <tr>\n",
       "      <th>row2</th>\n",
       "      <td>0.849825</td>\n",
       "      <td>-0.163339</td>\n",
       "      <td>-0.283322</td>\n",
       "      <td>0.935878</td>\n",
       "      <td>0.359920</td>\n",
       "      <td>1.699651</td>\n",
       "    </tr>\n",
       "    <tr>\n",
       "      <th>row3</th>\n",
       "      <td>0.059858</td>\n",
       "      <td>1.064744</td>\n",
       "      <td>1.241220</td>\n",
       "      <td>0.400700</td>\n",
       "      <td>1.925026</td>\n",
       "      <td>0.119715</td>\n",
       "    </tr>\n",
       "    <tr>\n",
       "      <th>row4</th>\n",
       "      <td>0.685403</td>\n",
       "      <td>0.226283</td>\n",
       "      <td>-1.841958</td>\n",
       "      <td>-0.278643</td>\n",
       "      <td>1.741308</td>\n",
       "      <td>1.370806</td>\n",
       "    </tr>\n",
       "    <tr>\n",
       "      <th>row5</th>\n",
       "      <td>-1.563659</td>\n",
       "      <td>0.661184</td>\n",
       "      <td>-0.824104</td>\n",
       "      <td>-0.494983</td>\n",
       "      <td>0.210169</td>\n",
       "      <td>-3.127318</td>\n",
       "    </tr>\n",
       "    <tr>\n",
       "      <th>row6</th>\n",
       "      <td>1.324894</td>\n",
       "      <td>-0.570205</td>\n",
       "      <td>1.238114</td>\n",
       "      <td>1.477310</td>\n",
       "      <td>0.136338</td>\n",
       "      <td>2.649789</td>\n",
       "    </tr>\n",
       "    <tr>\n",
       "      <th>row7</th>\n",
       "      <td>-0.589005</td>\n",
       "      <td>-2.612278</td>\n",
       "      <td>-0.008682</td>\n",
       "      <td>-0.361822</td>\n",
       "      <td>-0.013318</td>\n",
       "      <td>-1.178010</td>\n",
       "    </tr>\n",
       "    <tr>\n",
       "      <th>row8</th>\n",
       "      <td>-0.924938</td>\n",
       "      <td>0.150113</td>\n",
       "      <td>0.742846</td>\n",
       "      <td>-0.172087</td>\n",
       "      <td>1.437708</td>\n",
       "      <td>-1.849877</td>\n",
       "    </tr>\n",
       "    <tr>\n",
       "      <th>row9</th>\n",
       "      <td>-1.325651</td>\n",
       "      <td>0.454818</td>\n",
       "      <td>-0.361992</td>\n",
       "      <td>-1.058341</td>\n",
       "      <td>-0.953292</td>\n",
       "      <td>-2.651302</td>\n",
       "    </tr>\n",
       "    <tr>\n",
       "      <th>row10</th>\n",
       "      <td>-2.229473</td>\n",
       "      <td>0.100977</td>\n",
       "      <td>1.147300</td>\n",
       "      <td>2.491926</td>\n",
       "      <td>0.416009</td>\n",
       "      <td>-4.458946</td>\n",
       "    </tr>\n",
       "  </tbody>\n",
       "</table>\n",
       "</div>"
      ],
      "text/plain": [
       "        column1   column2   column3   column4   column5   column6\n",
       "row1  -0.459777 -0.837914  0.124778 -0.948637  0.741644 -0.919553\n",
       "row2   0.849825 -0.163339 -0.283322  0.935878  0.359920  1.699651\n",
       "row3   0.059858  1.064744  1.241220  0.400700  1.925026  0.119715\n",
       "row4   0.685403  0.226283 -1.841958 -0.278643  1.741308  1.370806\n",
       "row5  -1.563659  0.661184 -0.824104 -0.494983  0.210169 -3.127318\n",
       "row6   1.324894 -0.570205  1.238114  1.477310  0.136338  2.649789\n",
       "row7  -0.589005 -2.612278 -0.008682 -0.361822 -0.013318 -1.178010\n",
       "row8  -0.924938  0.150113  0.742846 -0.172087  1.437708 -1.849877\n",
       "row9  -1.325651  0.454818 -0.361992 -1.058341 -0.953292 -2.651302\n",
       "row10 -2.229473  0.100977  1.147300  2.491926  0.416009 -4.458946"
      ]
     },
     "execution_count": 75,
     "metadata": {},
     "output_type": "execute_result"
    }
   ],
   "source": [
    "my_dataframe # above dropping of column4 will not affect original dataframe"
   ]
  },
  {
   "cell_type": "code",
   "execution_count": 76,
   "id": "e394d645",
   "metadata": {},
   "outputs": [
    {
     "data": {
      "text/html": [
       "<div>\n",
       "<style scoped>\n",
       "    .dataframe tbody tr th:only-of-type {\n",
       "        vertical-align: middle;\n",
       "    }\n",
       "\n",
       "    .dataframe tbody tr th {\n",
       "        vertical-align: top;\n",
       "    }\n",
       "\n",
       "    .dataframe thead th {\n",
       "        text-align: right;\n",
       "    }\n",
       "</style>\n",
       "<table border=\"1\" class=\"dataframe\">\n",
       "  <thead>\n",
       "    <tr style=\"text-align: right;\">\n",
       "      <th></th>\n",
       "      <th>column1</th>\n",
       "      <th>column2</th>\n",
       "      <th>column3</th>\n",
       "      <th>column5</th>\n",
       "      <th>column6</th>\n",
       "    </tr>\n",
       "  </thead>\n",
       "  <tbody>\n",
       "    <tr>\n",
       "      <th>row1</th>\n",
       "      <td>-0.459777</td>\n",
       "      <td>-0.837914</td>\n",
       "      <td>0.124778</td>\n",
       "      <td>0.741644</td>\n",
       "      <td>-0.919553</td>\n",
       "    </tr>\n",
       "    <tr>\n",
       "      <th>row2</th>\n",
       "      <td>0.849825</td>\n",
       "      <td>-0.163339</td>\n",
       "      <td>-0.283322</td>\n",
       "      <td>0.359920</td>\n",
       "      <td>1.699651</td>\n",
       "    </tr>\n",
       "    <tr>\n",
       "      <th>row3</th>\n",
       "      <td>0.059858</td>\n",
       "      <td>1.064744</td>\n",
       "      <td>1.241220</td>\n",
       "      <td>1.925026</td>\n",
       "      <td>0.119715</td>\n",
       "    </tr>\n",
       "    <tr>\n",
       "      <th>row4</th>\n",
       "      <td>0.685403</td>\n",
       "      <td>0.226283</td>\n",
       "      <td>-1.841958</td>\n",
       "      <td>1.741308</td>\n",
       "      <td>1.370806</td>\n",
       "    </tr>\n",
       "    <tr>\n",
       "      <th>row5</th>\n",
       "      <td>-1.563659</td>\n",
       "      <td>0.661184</td>\n",
       "      <td>-0.824104</td>\n",
       "      <td>0.210169</td>\n",
       "      <td>-3.127318</td>\n",
       "    </tr>\n",
       "    <tr>\n",
       "      <th>row6</th>\n",
       "      <td>1.324894</td>\n",
       "      <td>-0.570205</td>\n",
       "      <td>1.238114</td>\n",
       "      <td>0.136338</td>\n",
       "      <td>2.649789</td>\n",
       "    </tr>\n",
       "    <tr>\n",
       "      <th>row7</th>\n",
       "      <td>-0.589005</td>\n",
       "      <td>-2.612278</td>\n",
       "      <td>-0.008682</td>\n",
       "      <td>-0.013318</td>\n",
       "      <td>-1.178010</td>\n",
       "    </tr>\n",
       "    <tr>\n",
       "      <th>row8</th>\n",
       "      <td>-0.924938</td>\n",
       "      <td>0.150113</td>\n",
       "      <td>0.742846</td>\n",
       "      <td>1.437708</td>\n",
       "      <td>-1.849877</td>\n",
       "    </tr>\n",
       "    <tr>\n",
       "      <th>row9</th>\n",
       "      <td>-1.325651</td>\n",
       "      <td>0.454818</td>\n",
       "      <td>-0.361992</td>\n",
       "      <td>-0.953292</td>\n",
       "      <td>-2.651302</td>\n",
       "    </tr>\n",
       "    <tr>\n",
       "      <th>row10</th>\n",
       "      <td>-2.229473</td>\n",
       "      <td>0.100977</td>\n",
       "      <td>1.147300</td>\n",
       "      <td>0.416009</td>\n",
       "      <td>-4.458946</td>\n",
       "    </tr>\n",
       "  </tbody>\n",
       "</table>\n",
       "</div>"
      ],
      "text/plain": [
       "        column1   column2   column3   column5   column6\n",
       "row1  -0.459777 -0.837914  0.124778  0.741644 -0.919553\n",
       "row2   0.849825 -0.163339 -0.283322  0.359920  1.699651\n",
       "row3   0.059858  1.064744  1.241220  1.925026  0.119715\n",
       "row4   0.685403  0.226283 -1.841958  1.741308  1.370806\n",
       "row5  -1.563659  0.661184 -0.824104  0.210169 -3.127318\n",
       "row6   1.324894 -0.570205  1.238114  0.136338  2.649789\n",
       "row7  -0.589005 -2.612278 -0.008682 -0.013318 -1.178010\n",
       "row8  -0.924938  0.150113  0.742846  1.437708 -1.849877\n",
       "row9  -1.325651  0.454818 -0.361992 -0.953292 -2.651302\n",
       "row10 -2.229473  0.100977  1.147300  0.416009 -4.458946"
      ]
     },
     "execution_count": 76,
     "metadata": {},
     "output_type": "execute_result"
    }
   ],
   "source": [
    "my_dataframe.drop('column4', axis=1, inplace=True)\n",
    "my_dataframe"
   ]
  },
  {
   "cell_type": "code",
   "execution_count": 77,
   "id": "6adea72a",
   "metadata": {},
   "outputs": [
    {
     "data": {
      "text/html": [
       "<div>\n",
       "<style scoped>\n",
       "    .dataframe tbody tr th:only-of-type {\n",
       "        vertical-align: middle;\n",
       "    }\n",
       "\n",
       "    .dataframe tbody tr th {\n",
       "        vertical-align: top;\n",
       "    }\n",
       "\n",
       "    .dataframe thead th {\n",
       "        text-align: right;\n",
       "    }\n",
       "</style>\n",
       "<table border=\"1\" class=\"dataframe\">\n",
       "  <thead>\n",
       "    <tr style=\"text-align: right;\">\n",
       "      <th></th>\n",
       "      <th>column1</th>\n",
       "      <th>column2</th>\n",
       "      <th>column3</th>\n",
       "      <th>column5</th>\n",
       "      <th>column6</th>\n",
       "    </tr>\n",
       "  </thead>\n",
       "  <tbody>\n",
       "    <tr>\n",
       "      <th>row1</th>\n",
       "      <td>-0.459777</td>\n",
       "      <td>-0.837914</td>\n",
       "      <td>0.124778</td>\n",
       "      <td>0.741644</td>\n",
       "      <td>-0.919553</td>\n",
       "    </tr>\n",
       "    <tr>\n",
       "      <th>row3</th>\n",
       "      <td>0.059858</td>\n",
       "      <td>1.064744</td>\n",
       "      <td>1.241220</td>\n",
       "      <td>1.925026</td>\n",
       "      <td>0.119715</td>\n",
       "    </tr>\n",
       "    <tr>\n",
       "      <th>row4</th>\n",
       "      <td>0.685403</td>\n",
       "      <td>0.226283</td>\n",
       "      <td>-1.841958</td>\n",
       "      <td>1.741308</td>\n",
       "      <td>1.370806</td>\n",
       "    </tr>\n",
       "    <tr>\n",
       "      <th>row5</th>\n",
       "      <td>-1.563659</td>\n",
       "      <td>0.661184</td>\n",
       "      <td>-0.824104</td>\n",
       "      <td>0.210169</td>\n",
       "      <td>-3.127318</td>\n",
       "    </tr>\n",
       "    <tr>\n",
       "      <th>row6</th>\n",
       "      <td>1.324894</td>\n",
       "      <td>-0.570205</td>\n",
       "      <td>1.238114</td>\n",
       "      <td>0.136338</td>\n",
       "      <td>2.649789</td>\n",
       "    </tr>\n",
       "    <tr>\n",
       "      <th>row7</th>\n",
       "      <td>-0.589005</td>\n",
       "      <td>-2.612278</td>\n",
       "      <td>-0.008682</td>\n",
       "      <td>-0.013318</td>\n",
       "      <td>-1.178010</td>\n",
       "    </tr>\n",
       "    <tr>\n",
       "      <th>row8</th>\n",
       "      <td>-0.924938</td>\n",
       "      <td>0.150113</td>\n",
       "      <td>0.742846</td>\n",
       "      <td>1.437708</td>\n",
       "      <td>-1.849877</td>\n",
       "    </tr>\n",
       "    <tr>\n",
       "      <th>row9</th>\n",
       "      <td>-1.325651</td>\n",
       "      <td>0.454818</td>\n",
       "      <td>-0.361992</td>\n",
       "      <td>-0.953292</td>\n",
       "      <td>-2.651302</td>\n",
       "    </tr>\n",
       "    <tr>\n",
       "      <th>row10</th>\n",
       "      <td>-2.229473</td>\n",
       "      <td>0.100977</td>\n",
       "      <td>1.147300</td>\n",
       "      <td>0.416009</td>\n",
       "      <td>-4.458946</td>\n",
       "    </tr>\n",
       "  </tbody>\n",
       "</table>\n",
       "</div>"
      ],
      "text/plain": [
       "        column1   column2   column3   column5   column6\n",
       "row1  -0.459777 -0.837914  0.124778  0.741644 -0.919553\n",
       "row3   0.059858  1.064744  1.241220  1.925026  0.119715\n",
       "row4   0.685403  0.226283 -1.841958  1.741308  1.370806\n",
       "row5  -1.563659  0.661184 -0.824104  0.210169 -3.127318\n",
       "row6   1.324894 -0.570205  1.238114  0.136338  2.649789\n",
       "row7  -0.589005 -2.612278 -0.008682 -0.013318 -1.178010\n",
       "row8  -0.924938  0.150113  0.742846  1.437708 -1.849877\n",
       "row9  -1.325651  0.454818 -0.361992 -0.953292 -2.651302\n",
       "row10 -2.229473  0.100977  1.147300  0.416009 -4.458946"
      ]
     },
     "execution_count": 77,
     "metadata": {},
     "output_type": "execute_result"
    }
   ],
   "source": [
    "# Dropping row from DataFrame\n",
    "my_dataframe.drop('row2', axis=0, inplace=True)\n",
    "my_dataframe"
   ]
  },
  {
   "cell_type": "code",
   "execution_count": 78,
   "id": "177f3dc8",
   "metadata": {},
   "outputs": [
    {
     "data": {
      "text/plain": [
       "column1    0.059858\n",
       "column2    1.064744\n",
       "column3    1.241220\n",
       "column5    1.925026\n",
       "column6    0.119715\n",
       "Name: row3, dtype: float64"
      ]
     },
     "execution_count": 78,
     "metadata": {},
     "output_type": "execute_result"
    }
   ],
   "source": [
    "# accessing data element using iloc e.g 2nd row with index location '1'\n",
    "my_dataframe.iloc[1]"
   ]
  },
  {
   "cell_type": "code",
   "execution_count": 79,
   "id": "458a1f18",
   "metadata": {},
   "outputs": [
    {
     "data": {
      "text/plain": [
       "pandas.core.series.Series"
      ]
     },
     "execution_count": 79,
     "metadata": {},
     "output_type": "execute_result"
    }
   ],
   "source": [
    "type(my_dataframe.iloc[1])"
   ]
  },
  {
   "cell_type": "code",
   "execution_count": 80,
   "id": "30c9d90f",
   "metadata": {},
   "outputs": [
    {
     "data": {
      "text/plain": [
       "np.float64(1.0647444893464781)"
      ]
     },
     "execution_count": 80,
     "metadata": {},
     "output_type": "execute_result"
    }
   ],
   "source": [
    "my_dataframe.loc['row3', 'column2']"
   ]
  },
  {
   "cell_type": "code",
   "execution_count": null,
   "id": "45c9455f",
   "metadata": {},
   "outputs": [],
   "source": []
  },
  {
   "cell_type": "markdown",
   "id": "72c1ba43",
   "metadata": {},
   "source": [
    "### Reading a Dataset with Pandas"
   ]
  },
  {
   "cell_type": "code",
   "execution_count": 65,
   "id": "366ce8e6",
   "metadata": {},
   "outputs": [
    {
     "data": {
      "text/html": [
       "<div>\n",
       "<style scoped>\n",
       "    .dataframe tbody tr th:only-of-type {\n",
       "        vertical-align: middle;\n",
       "    }\n",
       "\n",
       "    .dataframe tbody tr th {\n",
       "        vertical-align: top;\n",
       "    }\n",
       "\n",
       "    .dataframe thead th {\n",
       "        text-align: right;\n",
       "    }\n",
       "</style>\n",
       "<table border=\"1\" class=\"dataframe\">\n",
       "  <thead>\n",
       "    <tr style=\"text-align: right;\">\n",
       "      <th></th>\n",
       "      <th>symboling</th>\n",
       "      <th>normalized_losses</th>\n",
       "      <th>make</th>\n",
       "      <th>fuel_type</th>\n",
       "      <th>aspiration</th>\n",
       "      <th>number_of_doors</th>\n",
       "      <th>body_style</th>\n",
       "      <th>drive_wheels</th>\n",
       "      <th>engine_location</th>\n",
       "      <th>wheel_base</th>\n",
       "      <th>...</th>\n",
       "      <th>engine_size</th>\n",
       "      <th>fuel_system</th>\n",
       "      <th>bore</th>\n",
       "      <th>stroke</th>\n",
       "      <th>compression_ratio</th>\n",
       "      <th>horsepower</th>\n",
       "      <th>peak_rpm</th>\n",
       "      <th>city_mpg</th>\n",
       "      <th>highway_mpg</th>\n",
       "      <th>price</th>\n",
       "    </tr>\n",
       "  </thead>\n",
       "  <tbody>\n",
       "    <tr>\n",
       "      <th>0</th>\n",
       "      <td>3</td>\n",
       "      <td>168</td>\n",
       "      <td>alfa-romero</td>\n",
       "      <td>gas</td>\n",
       "      <td>std</td>\n",
       "      <td>two</td>\n",
       "      <td>convertible</td>\n",
       "      <td>rwd</td>\n",
       "      <td>front</td>\n",
       "      <td>88.6</td>\n",
       "      <td>...</td>\n",
       "      <td>130</td>\n",
       "      <td>mpfi</td>\n",
       "      <td>3.47</td>\n",
       "      <td>2.68</td>\n",
       "      <td>9.0</td>\n",
       "      <td>111</td>\n",
       "      <td>5000</td>\n",
       "      <td>21</td>\n",
       "      <td>27</td>\n",
       "      <td>13495</td>\n",
       "    </tr>\n",
       "    <tr>\n",
       "      <th>1</th>\n",
       "      <td>3</td>\n",
       "      <td>168</td>\n",
       "      <td>alfa-romero</td>\n",
       "      <td>gas</td>\n",
       "      <td>std</td>\n",
       "      <td>two</td>\n",
       "      <td>convertible</td>\n",
       "      <td>rwd</td>\n",
       "      <td>front</td>\n",
       "      <td>88.6</td>\n",
       "      <td>...</td>\n",
       "      <td>130</td>\n",
       "      <td>mpfi</td>\n",
       "      <td>3.47</td>\n",
       "      <td>2.68</td>\n",
       "      <td>9.0</td>\n",
       "      <td>111</td>\n",
       "      <td>5000</td>\n",
       "      <td>21</td>\n",
       "      <td>27</td>\n",
       "      <td>16500</td>\n",
       "    </tr>\n",
       "    <tr>\n",
       "      <th>2</th>\n",
       "      <td>1</td>\n",
       "      <td>168</td>\n",
       "      <td>alfa-romero</td>\n",
       "      <td>gas</td>\n",
       "      <td>std</td>\n",
       "      <td>two</td>\n",
       "      <td>hatchback</td>\n",
       "      <td>rwd</td>\n",
       "      <td>front</td>\n",
       "      <td>94.5</td>\n",
       "      <td>...</td>\n",
       "      <td>152</td>\n",
       "      <td>mpfi</td>\n",
       "      <td>2.68</td>\n",
       "      <td>3.47</td>\n",
       "      <td>9.0</td>\n",
       "      <td>154</td>\n",
       "      <td>5000</td>\n",
       "      <td>19</td>\n",
       "      <td>26</td>\n",
       "      <td>16500</td>\n",
       "    </tr>\n",
       "    <tr>\n",
       "      <th>3</th>\n",
       "      <td>2</td>\n",
       "      <td>164</td>\n",
       "      <td>audi</td>\n",
       "      <td>gas</td>\n",
       "      <td>std</td>\n",
       "      <td>four</td>\n",
       "      <td>sedan</td>\n",
       "      <td>fwd</td>\n",
       "      <td>front</td>\n",
       "      <td>99.8</td>\n",
       "      <td>...</td>\n",
       "      <td>109</td>\n",
       "      <td>mpfi</td>\n",
       "      <td>3.19</td>\n",
       "      <td>3.40</td>\n",
       "      <td>10.0</td>\n",
       "      <td>102</td>\n",
       "      <td>5500</td>\n",
       "      <td>24</td>\n",
       "      <td>30</td>\n",
       "      <td>13950</td>\n",
       "    </tr>\n",
       "    <tr>\n",
       "      <th>4</th>\n",
       "      <td>2</td>\n",
       "      <td>164</td>\n",
       "      <td>audi</td>\n",
       "      <td>gas</td>\n",
       "      <td>std</td>\n",
       "      <td>four</td>\n",
       "      <td>sedan</td>\n",
       "      <td>4wd</td>\n",
       "      <td>front</td>\n",
       "      <td>99.4</td>\n",
       "      <td>...</td>\n",
       "      <td>136</td>\n",
       "      <td>mpfi</td>\n",
       "      <td>3.19</td>\n",
       "      <td>3.40</td>\n",
       "      <td>8.0</td>\n",
       "      <td>115</td>\n",
       "      <td>5500</td>\n",
       "      <td>18</td>\n",
       "      <td>22</td>\n",
       "      <td>17450</td>\n",
       "    </tr>\n",
       "    <tr>\n",
       "      <th>5</th>\n",
       "      <td>2</td>\n",
       "      <td>161</td>\n",
       "      <td>audi</td>\n",
       "      <td>gas</td>\n",
       "      <td>std</td>\n",
       "      <td>two</td>\n",
       "      <td>sedan</td>\n",
       "      <td>fwd</td>\n",
       "      <td>front</td>\n",
       "      <td>99.8</td>\n",
       "      <td>...</td>\n",
       "      <td>136</td>\n",
       "      <td>mpfi</td>\n",
       "      <td>3.19</td>\n",
       "      <td>3.40</td>\n",
       "      <td>8.5</td>\n",
       "      <td>110</td>\n",
       "      <td>5500</td>\n",
       "      <td>19</td>\n",
       "      <td>25</td>\n",
       "      <td>15250</td>\n",
       "    </tr>\n",
       "    <tr>\n",
       "      <th>6</th>\n",
       "      <td>1</td>\n",
       "      <td>158</td>\n",
       "      <td>audi</td>\n",
       "      <td>gas</td>\n",
       "      <td>std</td>\n",
       "      <td>four</td>\n",
       "      <td>sedan</td>\n",
       "      <td>fwd</td>\n",
       "      <td>front</td>\n",
       "      <td>105.8</td>\n",
       "      <td>...</td>\n",
       "      <td>136</td>\n",
       "      <td>mpfi</td>\n",
       "      <td>3.19</td>\n",
       "      <td>3.40</td>\n",
       "      <td>8.5</td>\n",
       "      <td>110</td>\n",
       "      <td>5500</td>\n",
       "      <td>19</td>\n",
       "      <td>25</td>\n",
       "      <td>17710</td>\n",
       "    </tr>\n",
       "    <tr>\n",
       "      <th>7</th>\n",
       "      <td>1</td>\n",
       "      <td>168</td>\n",
       "      <td>audi</td>\n",
       "      <td>gas</td>\n",
       "      <td>std</td>\n",
       "      <td>four</td>\n",
       "      <td>wagon</td>\n",
       "      <td>fwd</td>\n",
       "      <td>front</td>\n",
       "      <td>105.8</td>\n",
       "      <td>...</td>\n",
       "      <td>136</td>\n",
       "      <td>mpfi</td>\n",
       "      <td>3.19</td>\n",
       "      <td>3.40</td>\n",
       "      <td>8.5</td>\n",
       "      <td>110</td>\n",
       "      <td>5500</td>\n",
       "      <td>19</td>\n",
       "      <td>25</td>\n",
       "      <td>18920</td>\n",
       "    </tr>\n",
       "    <tr>\n",
       "      <th>8</th>\n",
       "      <td>1</td>\n",
       "      <td>158</td>\n",
       "      <td>audi</td>\n",
       "      <td>gas</td>\n",
       "      <td>turbo</td>\n",
       "      <td>four</td>\n",
       "      <td>sedan</td>\n",
       "      <td>fwd</td>\n",
       "      <td>front</td>\n",
       "      <td>105.8</td>\n",
       "      <td>...</td>\n",
       "      <td>131</td>\n",
       "      <td>mpfi</td>\n",
       "      <td>3.13</td>\n",
       "      <td>3.40</td>\n",
       "      <td>8.3</td>\n",
       "      <td>140</td>\n",
       "      <td>5500</td>\n",
       "      <td>17</td>\n",
       "      <td>20</td>\n",
       "      <td>23875</td>\n",
       "    </tr>\n",
       "    <tr>\n",
       "      <th>9</th>\n",
       "      <td>2</td>\n",
       "      <td>192</td>\n",
       "      <td>bmw</td>\n",
       "      <td>gas</td>\n",
       "      <td>std</td>\n",
       "      <td>two</td>\n",
       "      <td>sedan</td>\n",
       "      <td>rwd</td>\n",
       "      <td>front</td>\n",
       "      <td>101.2</td>\n",
       "      <td>...</td>\n",
       "      <td>108</td>\n",
       "      <td>mpfi</td>\n",
       "      <td>3.50</td>\n",
       "      <td>2.80</td>\n",
       "      <td>8.8</td>\n",
       "      <td>101</td>\n",
       "      <td>5800</td>\n",
       "      <td>23</td>\n",
       "      <td>29</td>\n",
       "      <td>16430</td>\n",
       "    </tr>\n",
       "    <tr>\n",
       "      <th>10</th>\n",
       "      <td>0</td>\n",
       "      <td>192</td>\n",
       "      <td>bmw</td>\n",
       "      <td>gas</td>\n",
       "      <td>std</td>\n",
       "      <td>four</td>\n",
       "      <td>sedan</td>\n",
       "      <td>rwd</td>\n",
       "      <td>front</td>\n",
       "      <td>101.2</td>\n",
       "      <td>...</td>\n",
       "      <td>108</td>\n",
       "      <td>mpfi</td>\n",
       "      <td>3.50</td>\n",
       "      <td>2.80</td>\n",
       "      <td>8.8</td>\n",
       "      <td>101</td>\n",
       "      <td>5800</td>\n",
       "      <td>23</td>\n",
       "      <td>29</td>\n",
       "      <td>16925</td>\n",
       "    </tr>\n",
       "    <tr>\n",
       "      <th>11</th>\n",
       "      <td>0</td>\n",
       "      <td>188</td>\n",
       "      <td>bmw</td>\n",
       "      <td>gas</td>\n",
       "      <td>std</td>\n",
       "      <td>two</td>\n",
       "      <td>sedan</td>\n",
       "      <td>rwd</td>\n",
       "      <td>front</td>\n",
       "      <td>101.2</td>\n",
       "      <td>...</td>\n",
       "      <td>164</td>\n",
       "      <td>mpfi</td>\n",
       "      <td>3.31</td>\n",
       "      <td>3.19</td>\n",
       "      <td>9.0</td>\n",
       "      <td>121</td>\n",
       "      <td>4250</td>\n",
       "      <td>21</td>\n",
       "      <td>28</td>\n",
       "      <td>20970</td>\n",
       "    </tr>\n",
       "    <tr>\n",
       "      <th>12</th>\n",
       "      <td>0</td>\n",
       "      <td>188</td>\n",
       "      <td>bmw</td>\n",
       "      <td>gas</td>\n",
       "      <td>std</td>\n",
       "      <td>four</td>\n",
       "      <td>sedan</td>\n",
       "      <td>rwd</td>\n",
       "      <td>front</td>\n",
       "      <td>101.2</td>\n",
       "      <td>...</td>\n",
       "      <td>164</td>\n",
       "      <td>mpfi</td>\n",
       "      <td>3.31</td>\n",
       "      <td>3.19</td>\n",
       "      <td>9.0</td>\n",
       "      <td>121</td>\n",
       "      <td>4250</td>\n",
       "      <td>21</td>\n",
       "      <td>28</td>\n",
       "      <td>21105</td>\n",
       "    </tr>\n",
       "    <tr>\n",
       "      <th>13</th>\n",
       "      <td>1</td>\n",
       "      <td>149</td>\n",
       "      <td>bmw</td>\n",
       "      <td>gas</td>\n",
       "      <td>std</td>\n",
       "      <td>four</td>\n",
       "      <td>sedan</td>\n",
       "      <td>rwd</td>\n",
       "      <td>front</td>\n",
       "      <td>103.5</td>\n",
       "      <td>...</td>\n",
       "      <td>164</td>\n",
       "      <td>mpfi</td>\n",
       "      <td>3.31</td>\n",
       "      <td>3.19</td>\n",
       "      <td>9.0</td>\n",
       "      <td>121</td>\n",
       "      <td>4250</td>\n",
       "      <td>20</td>\n",
       "      <td>25</td>\n",
       "      <td>24565</td>\n",
       "    </tr>\n",
       "    <tr>\n",
       "      <th>14</th>\n",
       "      <td>0</td>\n",
       "      <td>149</td>\n",
       "      <td>bmw</td>\n",
       "      <td>gas</td>\n",
       "      <td>std</td>\n",
       "      <td>four</td>\n",
       "      <td>sedan</td>\n",
       "      <td>rwd</td>\n",
       "      <td>front</td>\n",
       "      <td>103.5</td>\n",
       "      <td>...</td>\n",
       "      <td>209</td>\n",
       "      <td>mpfi</td>\n",
       "      <td>3.62</td>\n",
       "      <td>3.39</td>\n",
       "      <td>8.0</td>\n",
       "      <td>182</td>\n",
       "      <td>5400</td>\n",
       "      <td>16</td>\n",
       "      <td>22</td>\n",
       "      <td>30760</td>\n",
       "    </tr>\n",
       "  </tbody>\n",
       "</table>\n",
       "<p>15 rows × 26 columns</p>\n",
       "</div>"
      ],
      "text/plain": [
       "    symboling  normalized_losses         make fuel_type aspiration  \\\n",
       "0           3                168  alfa-romero       gas        std   \n",
       "1           3                168  alfa-romero       gas        std   \n",
       "2           1                168  alfa-romero       gas        std   \n",
       "3           2                164         audi       gas        std   \n",
       "4           2                164         audi       gas        std   \n",
       "5           2                161         audi       gas        std   \n",
       "6           1                158         audi       gas        std   \n",
       "7           1                168         audi       gas        std   \n",
       "8           1                158         audi       gas      turbo   \n",
       "9           2                192          bmw       gas        std   \n",
       "10          0                192          bmw       gas        std   \n",
       "11          0                188          bmw       gas        std   \n",
       "12          0                188          bmw       gas        std   \n",
       "13          1                149          bmw       gas        std   \n",
       "14          0                149          bmw       gas        std   \n",
       "\n",
       "   number_of_doors   body_style drive_wheels engine_location  wheel_base  ...  \\\n",
       "0              two  convertible          rwd           front        88.6  ...   \n",
       "1              two  convertible          rwd           front        88.6  ...   \n",
       "2              two    hatchback          rwd           front        94.5  ...   \n",
       "3             four        sedan          fwd           front        99.8  ...   \n",
       "4             four        sedan          4wd           front        99.4  ...   \n",
       "5              two        sedan          fwd           front        99.8  ...   \n",
       "6             four        sedan          fwd           front       105.8  ...   \n",
       "7             four        wagon          fwd           front       105.8  ...   \n",
       "8             four        sedan          fwd           front       105.8  ...   \n",
       "9              two        sedan          rwd           front       101.2  ...   \n",
       "10            four        sedan          rwd           front       101.2  ...   \n",
       "11             two        sedan          rwd           front       101.2  ...   \n",
       "12            four        sedan          rwd           front       101.2  ...   \n",
       "13            four        sedan          rwd           front       103.5  ...   \n",
       "14            four        sedan          rwd           front       103.5  ...   \n",
       "\n",
       "    engine_size  fuel_system  bore  stroke compression_ratio horsepower  \\\n",
       "0           130         mpfi  3.47    2.68               9.0        111   \n",
       "1           130         mpfi  3.47    2.68               9.0        111   \n",
       "2           152         mpfi  2.68    3.47               9.0        154   \n",
       "3           109         mpfi  3.19    3.40              10.0        102   \n",
       "4           136         mpfi  3.19    3.40               8.0        115   \n",
       "5           136         mpfi  3.19    3.40               8.5        110   \n",
       "6           136         mpfi  3.19    3.40               8.5        110   \n",
       "7           136         mpfi  3.19    3.40               8.5        110   \n",
       "8           131         mpfi  3.13    3.40               8.3        140   \n",
       "9           108         mpfi  3.50    2.80               8.8        101   \n",
       "10          108         mpfi  3.50    2.80               8.8        101   \n",
       "11          164         mpfi  3.31    3.19               9.0        121   \n",
       "12          164         mpfi  3.31    3.19               9.0        121   \n",
       "13          164         mpfi  3.31    3.19               9.0        121   \n",
       "14          209         mpfi  3.62    3.39               8.0        182   \n",
       "\n",
       "    peak_rpm city_mpg  highway_mpg  price  \n",
       "0       5000       21           27  13495  \n",
       "1       5000       21           27  16500  \n",
       "2       5000       19           26  16500  \n",
       "3       5500       24           30  13950  \n",
       "4       5500       18           22  17450  \n",
       "5       5500       19           25  15250  \n",
       "6       5500       19           25  17710  \n",
       "7       5500       19           25  18920  \n",
       "8       5500       17           20  23875  \n",
       "9       5800       23           29  16430  \n",
       "10      5800       23           29  16925  \n",
       "11      4250       21           28  20970  \n",
       "12      4250       21           28  21105  \n",
       "13      4250       20           25  24565  \n",
       "14      5400       16           22  30760  \n",
       "\n",
       "[15 rows x 26 columns]"
      ]
     },
     "execution_count": 65,
     "metadata": {},
     "output_type": "execute_result"
    }
   ],
   "source": [
    "raw_file_path = '/Users/vishalsaxena/Documents/DS_Workspace/ds_bootcamp/data/raw/Automobile.csv'\n",
    "data = pd.read_csv(raw_file_path)\n",
    "data.head(15)"
   ]
  },
  {
   "cell_type": "code",
   "execution_count": 66,
   "id": "cecad232",
   "metadata": {},
   "outputs": [
    {
     "data": {
      "text/html": [
       "<div>\n",
       "<style scoped>\n",
       "    .dataframe tbody tr th:only-of-type {\n",
       "        vertical-align: middle;\n",
       "    }\n",
       "\n",
       "    .dataframe tbody tr th {\n",
       "        vertical-align: top;\n",
       "    }\n",
       "\n",
       "    .dataframe thead th {\n",
       "        text-align: right;\n",
       "    }\n",
       "</style>\n",
       "<table border=\"1\" class=\"dataframe\">\n",
       "  <thead>\n",
       "    <tr style=\"text-align: right;\">\n",
       "      <th></th>\n",
       "      <th>symboling</th>\n",
       "      <th>normalized_losses</th>\n",
       "      <th>make</th>\n",
       "      <th>fuel_type</th>\n",
       "      <th>aspiration</th>\n",
       "      <th>number_of_doors</th>\n",
       "      <th>body_style</th>\n",
       "      <th>drive_wheels</th>\n",
       "      <th>engine_location</th>\n",
       "      <th>wheel_base</th>\n",
       "      <th>...</th>\n",
       "      <th>engine_size</th>\n",
       "      <th>fuel_system</th>\n",
       "      <th>bore</th>\n",
       "      <th>stroke</th>\n",
       "      <th>compression_ratio</th>\n",
       "      <th>horsepower</th>\n",
       "      <th>peak_rpm</th>\n",
       "      <th>city_mpg</th>\n",
       "      <th>highway_mpg</th>\n",
       "      <th>price</th>\n",
       "    </tr>\n",
       "  </thead>\n",
       "  <tbody>\n",
       "    <tr>\n",
       "      <th>196</th>\n",
       "      <td>-1</td>\n",
       "      <td>95</td>\n",
       "      <td>volvo</td>\n",
       "      <td>gas</td>\n",
       "      <td>std</td>\n",
       "      <td>four</td>\n",
       "      <td>sedan</td>\n",
       "      <td>rwd</td>\n",
       "      <td>front</td>\n",
       "      <td>109.1</td>\n",
       "      <td>...</td>\n",
       "      <td>141</td>\n",
       "      <td>mpfi</td>\n",
       "      <td>3.78</td>\n",
       "      <td>3.15</td>\n",
       "      <td>9.5</td>\n",
       "      <td>114</td>\n",
       "      <td>5400</td>\n",
       "      <td>23</td>\n",
       "      <td>28</td>\n",
       "      <td>16845</td>\n",
       "    </tr>\n",
       "    <tr>\n",
       "      <th>197</th>\n",
       "      <td>-1</td>\n",
       "      <td>95</td>\n",
       "      <td>volvo</td>\n",
       "      <td>gas</td>\n",
       "      <td>turbo</td>\n",
       "      <td>four</td>\n",
       "      <td>sedan</td>\n",
       "      <td>rwd</td>\n",
       "      <td>front</td>\n",
       "      <td>109.1</td>\n",
       "      <td>...</td>\n",
       "      <td>141</td>\n",
       "      <td>mpfi</td>\n",
       "      <td>3.78</td>\n",
       "      <td>3.15</td>\n",
       "      <td>8.7</td>\n",
       "      <td>160</td>\n",
       "      <td>5300</td>\n",
       "      <td>19</td>\n",
       "      <td>25</td>\n",
       "      <td>19045</td>\n",
       "    </tr>\n",
       "    <tr>\n",
       "      <th>198</th>\n",
       "      <td>-1</td>\n",
       "      <td>95</td>\n",
       "      <td>volvo</td>\n",
       "      <td>gas</td>\n",
       "      <td>std</td>\n",
       "      <td>four</td>\n",
       "      <td>sedan</td>\n",
       "      <td>rwd</td>\n",
       "      <td>front</td>\n",
       "      <td>109.1</td>\n",
       "      <td>...</td>\n",
       "      <td>173</td>\n",
       "      <td>mpfi</td>\n",
       "      <td>3.58</td>\n",
       "      <td>2.87</td>\n",
       "      <td>8.8</td>\n",
       "      <td>134</td>\n",
       "      <td>5500</td>\n",
       "      <td>18</td>\n",
       "      <td>23</td>\n",
       "      <td>21485</td>\n",
       "    </tr>\n",
       "    <tr>\n",
       "      <th>199</th>\n",
       "      <td>-1</td>\n",
       "      <td>95</td>\n",
       "      <td>volvo</td>\n",
       "      <td>diesel</td>\n",
       "      <td>turbo</td>\n",
       "      <td>four</td>\n",
       "      <td>sedan</td>\n",
       "      <td>rwd</td>\n",
       "      <td>front</td>\n",
       "      <td>109.1</td>\n",
       "      <td>...</td>\n",
       "      <td>145</td>\n",
       "      <td>idi</td>\n",
       "      <td>3.01</td>\n",
       "      <td>3.40</td>\n",
       "      <td>23.0</td>\n",
       "      <td>106</td>\n",
       "      <td>4800</td>\n",
       "      <td>26</td>\n",
       "      <td>27</td>\n",
       "      <td>22470</td>\n",
       "    </tr>\n",
       "    <tr>\n",
       "      <th>200</th>\n",
       "      <td>-1</td>\n",
       "      <td>95</td>\n",
       "      <td>volvo</td>\n",
       "      <td>gas</td>\n",
       "      <td>turbo</td>\n",
       "      <td>four</td>\n",
       "      <td>sedan</td>\n",
       "      <td>rwd</td>\n",
       "      <td>front</td>\n",
       "      <td>109.1</td>\n",
       "      <td>...</td>\n",
       "      <td>141</td>\n",
       "      <td>mpfi</td>\n",
       "      <td>3.78</td>\n",
       "      <td>3.15</td>\n",
       "      <td>9.5</td>\n",
       "      <td>114</td>\n",
       "      <td>5400</td>\n",
       "      <td>19</td>\n",
       "      <td>25</td>\n",
       "      <td>22625</td>\n",
       "    </tr>\n",
       "  </tbody>\n",
       "</table>\n",
       "<p>5 rows × 26 columns</p>\n",
       "</div>"
      ],
      "text/plain": [
       "     symboling  normalized_losses   make fuel_type aspiration number_of_doors  \\\n",
       "196         -1                 95  volvo       gas        std            four   \n",
       "197         -1                 95  volvo       gas      turbo            four   \n",
       "198         -1                 95  volvo       gas        std            four   \n",
       "199         -1                 95  volvo    diesel      turbo            four   \n",
       "200         -1                 95  volvo       gas      turbo            four   \n",
       "\n",
       "    body_style drive_wheels engine_location  wheel_base  ...  engine_size  \\\n",
       "196      sedan          rwd           front       109.1  ...          141   \n",
       "197      sedan          rwd           front       109.1  ...          141   \n",
       "198      sedan          rwd           front       109.1  ...          173   \n",
       "199      sedan          rwd           front       109.1  ...          145   \n",
       "200      sedan          rwd           front       109.1  ...          141   \n",
       "\n",
       "     fuel_system  bore  stroke compression_ratio horsepower  peak_rpm  \\\n",
       "196         mpfi  3.78    3.15               9.5        114      5400   \n",
       "197         mpfi  3.78    3.15               8.7        160      5300   \n",
       "198         mpfi  3.58    2.87               8.8        134      5500   \n",
       "199          idi  3.01    3.40              23.0        106      4800   \n",
       "200         mpfi  3.78    3.15               9.5        114      5400   \n",
       "\n",
       "    city_mpg  highway_mpg  price  \n",
       "196       23           28  16845  \n",
       "197       19           25  19045  \n",
       "198       18           23  21485  \n",
       "199       26           27  22470  \n",
       "200       19           25  22625  \n",
       "\n",
       "[5 rows x 26 columns]"
      ]
     },
     "execution_count": 66,
     "metadata": {},
     "output_type": "execute_result"
    }
   ],
   "source": [
    "data.tail()"
   ]
  },
  {
   "cell_type": "code",
   "execution_count": null,
   "id": "66eef080",
   "metadata": {},
   "outputs": [],
   "source": []
  }
 ],
 "metadata": {
  "kernelspec": {
   "display_name": "ds_env",
   "language": "python",
   "name": "ds_env"
  },
  "language_info": {
   "codemirror_mode": {
    "name": "ipython",
    "version": 3
   },
   "file_extension": ".py",
   "mimetype": "text/x-python",
   "name": "python",
   "nbconvert_exporter": "python",
   "pygments_lexer": "ipython3",
   "version": "3.12.9"
  }
 },
 "nbformat": 4,
 "nbformat_minor": 5
}
