version https://git-lfs.github.com/spec/v1
oid sha256:d2d87c80f037c232643480f519cb41629ca774c4a28925abb3481aee1b603c62
size 4263
